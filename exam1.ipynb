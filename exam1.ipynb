{
  "cells": [
    {
      "cell_type": "markdown",
      "metadata": {
        "id": "view-in-github",
        "colab_type": "text"
      },
      "source": [
        "<a href=\"https://colab.research.google.com/github/jannarchive/CCDATRCL_EXAM_COM222/blob/main/exam1.ipynb\" target=\"_parent\"><img src=\"https://colab.research.google.com/assets/colab-badge.svg\" alt=\"Open In Colab\"/></a>"
      ]
    },
    {
      "cell_type": "markdown",
      "metadata": {
        "id": "yaz2B0KGFehP"
      },
      "source": [
        "# Midterm Exam 💛💙"
      ]
    },
    {
      "cell_type": "markdown",
      "metadata": {
        "id": "_DmK1ONEFehQ"
      },
      "source": [
        "**Instructions** ❗️❗️\n",
        "\n",
        "❌ Do not remove or modify the notebook **sections**, **subsections**, **exam questions** or **any text** in this python notebook\n",
        "\n",
        "✔️ Put your answer in the designated cells below each question"
      ]
    },
    {
      "cell_type": "markdown",
      "metadata": {
        "id": "TMCAXKWCFehR"
      },
      "source": [
        "## Search"
      ]
    },
    {
      "cell_type": "code",
      "execution_count": 617,
      "metadata": {
        "id": "Fy8nEBRRFehR"
      },
      "outputs": [],
      "source": [
        "def linearSearch(my_list, number):\n",
        "\n",
        "    index = 0\n",
        "\n",
        "    for i in my_list:\n",
        "\n",
        "        if my_list[index] == number:\n",
        "            return index\n",
        "\n",
        "        index = index + 1\n",
        "\n",
        "    return -1"
      ]
    },
    {
      "cell_type": "markdown",
      "metadata": {
        "id": "AjAevpueFehS"
      },
      "source": [
        "1. Using **linear search**, write a `findLargestIncrease()` function to find the largest increase in value between two adjacent numbers in your student number `(10 points)`\n",
        "\n",
        "    **Example:**\n",
        "\n",
        "    student_number = [2,0,2,2,6,2,5,1,9,3]\n",
        "\n",
        "    **Expected Output:**\n",
        "\n",
        "    findLargestIncrease(student_number)\n",
        "\n",
        "    Output: Between 1 and 9\n",
        "\n",
        "    **Explanation:**\n",
        "\n",
        "    From this student_number, the largest increase happened from number 1 to number 9"
      ]
    },
    {
      "cell_type": "code",
      "execution_count": 618,
      "metadata": {
        "id": "JE8nEfyJFehS",
        "colab": {
          "base_uri": "https://localhost:8080/"
        },
        "outputId": "a8fd5979-e798-4bc1-b376-ed571ae111fb"
      },
      "outputs": [
        {
          "output_type": "stream",
          "name": "stdout",
          "text": [
            "Between 0 and 6\n"
          ]
        }
      ],
      "source": [
        "def findLargestIncrease(student_number):\n",
        "    largest_increase = 0\n",
        "    start_index = 0\n",
        "    end_index = 0\n",
        "\n",
        "    for x in range(len(student_number) - 1):\n",
        "        increase = student_number[x + 1] - student_number[x]\n",
        "\n",
        "        if increase > largest_increase:\n",
        "            largest_increase = increase\n",
        "            start_index = linearSearch(student_number, student_number[x])\n",
        "            end_index = linearSearch(student_number, student_number[x + 1])\n",
        "\n",
        "    if len(student_number) < 2:\n",
        "        return \"No increase in value between two adjacent numbers\"\n",
        "    else:\n",
        "      return f\"Between {student_number[start_index]} and {student_number[end_index]}\"\n",
        "\n",
        "student_number = [2, 0, 2, 2, 1, 0, 1, 5, 0, 6]\n",
        "answer = findLargestIncrease(student_number)\n",
        "print(answer)"
      ]
    },
    {
      "cell_type": "markdown",
      "source": [],
      "metadata": {
        "id": "mnljF9AvTc_V"
      }
    },
    {
      "cell_type": "markdown",
      "metadata": {
        "id": "nMyr1fNyFehS"
      },
      "source": [
        "2. Using **linear search**, write a `findLargestDecrease()` function to find the largest decrease in value between two adjacent numbers in your student number `(10 points)`\n",
        "\n",
        "    **Example:**\n",
        "\n",
        "    student_number = [2,0,2,2,6,2,5,1,9,3]\n",
        "\n",
        "    **Expected Output:**\n",
        "\n",
        "    findLargestDecrease(student_number)\n",
        "\n",
        "    Output: Between 9 and 3\n",
        "\n",
        "    **Explanation:**\n",
        "\n",
        "    From this student_number, the largest decrease happened from number 9 to number 3"
      ]
    },
    {
      "cell_type": "code",
      "execution_count": 619,
      "metadata": {
        "id": "bfMfQVbVFehS",
        "colab": {
          "base_uri": "https://localhost:8080/"
        },
        "outputId": "7233a367-6fb6-498e-d840-1cc30fa5285e"
      },
      "outputs": [
        {
          "output_type": "stream",
          "name": "stdout",
          "text": [
            "Between 5 and 0\n"
          ]
        }
      ],
      "source": [
        "def findLargestDecrease(student_number):\n",
        "    largest_decrease = 0\n",
        "    start_index = 0\n",
        "    end_index = 0\n",
        "\n",
        "    for x in range(len(student_number) - 1):\n",
        "        decrease = student_number[x] - student_number[x + 1]\n",
        "\n",
        "        if decrease > largest_decrease:\n",
        "            largest_decrease = decrease\n",
        "            start_index = linearSearch(student_number, student_number[x])\n",
        "            end_index = linearSearch(student_number, student_number[x + 1])\n",
        "\n",
        "    if len(student_number) < 2:\n",
        "        return \"No decrease in value between two adjacent numbers\"\n",
        "    else:\n",
        "      return f\"Between {student_number[start_index]} and {student_number[end_index]}\"\n",
        "\n",
        "student_number = [2, 0, 2, 2, 1, 0, 1, 5, 0, 6]\n",
        "answer = findLargestDecrease(student_number)\n",
        "print(answer)"
      ]
    },
    {
      "cell_type": "markdown",
      "metadata": {
        "id": "NtKSQn9QFehS"
      },
      "source": [
        "## Linked List"
      ]
    },
    {
      "cell_type": "code",
      "execution_count": 620,
      "metadata": {
        "id": "0HP5zyJcFehS"
      },
      "outputs": [],
      "source": [
        "class Node:\n",
        "\n",
        "    def __init__(self, data):\n",
        "        self.data = data\n",
        "        self.next = None  # null"
      ]
    },
    {
      "cell_type": "code",
      "execution_count": 621,
      "metadata": {
        "id": "A-8Uefe7FehS"
      },
      "outputs": [],
      "source": [
        "class LinkedList:\n",
        "\n",
        "    def __init__(self):\n",
        "        self.head = None\n",
        "\n",
        "    def traverse(self, node):\n",
        "        while node:\n",
        "            print(node.data, end=\" -> \")\n",
        "            node = node.next"
      ]
    },
    {
      "cell_type": "markdown",
      "metadata": {
        "id": "uPgIJJuSFehT"
      },
      "source": [
        "**Instructions** ❗️❗️\n",
        "\n",
        "Use the pre-defined linked list class/functions to create a linked list"
      ]
    },
    {
      "cell_type": "markdown",
      "metadata": {
        "id": "WIwpW7Q2FehT"
      },
      "source": [
        "1. Create a Singly linked list named **num_list** and print all of its elements. `(5 points)`\n",
        "\n",
        "- **num_list** should contain all digits of your student number.\n",
        "\n",
        "    **Expected Output:**\n",
        "\n",
        "    print(num_list)\n",
        "\n",
        "    [2, 0, 2, 2, 1, 2, 3, 4, 5, 6]"
      ]
    },
    {
      "cell_type": "code",
      "execution_count": 622,
      "metadata": {
        "id": "Lihv0JPiFehT",
        "colab": {
          "base_uri": "https://localhost:8080/"
        },
        "outputId": "30e3d069-0017-47a6-8f8d-5f267ddf3047"
      },
      "outputs": [
        {
          "output_type": "stream",
          "name": "stdout",
          "text": [
            "2 -> 0 -> 2 -> 2 -> 1 -> 0 -> 1 -> 5 -> 0 -> 6 -> "
          ]
        }
      ],
      "source": [
        "num_list = LinkedList()\n",
        "\n",
        "num_list.head = Node(2)\n",
        "node_two = Node(0)\n",
        "node_three = Node(2)\n",
        "node_four = Node(2)\n",
        "node_five = Node(1)\n",
        "node_six = Node(0)\n",
        "node_seven = Node(1)\n",
        "node_eight = Node(5)\n",
        "node_nine = Node(0)\n",
        "node_ten = Node(6)\n",
        "\n",
        "num_list.head.next = node_two\n",
        "node_two.next = node_three\n",
        "node_three.next = node_four\n",
        "node_four.next = node_five\n",
        "node_five.next = node_six\n",
        "node_six.next = node_seven\n",
        "node_seven.next = node_eight\n",
        "node_eight.next = node_nine\n",
        "node_nine.next = node_ten\n",
        "\n",
        "num_list.traverse(num_list.head)"
      ]
    },
    {
      "cell_type": "markdown",
      "metadata": {
        "id": "dqA2UYrYFehT"
      },
      "source": [
        "2. Write a `hasPrime()` function to test whether a prime number is in the last six digits of **num_list**. `(5 points)`\n",
        "\n",
        "- If a prime number is in the last six digits of **num_list**, the method should return **true**\n",
        "\n",
        "- If a prime number is not in the last six digits of **num_list**, the method should return **false**\n",
        "\n",
        "    **Expected Output:**\n",
        "\n",
        "    hasPrime(num_list)\n",
        "\n",
        "    True"
      ]
    },
    {
      "cell_type": "code",
      "source": [
        "import math\n",
        "num_list = LinkedList()\n",
        "\n",
        "num_list.head = Node(2)\n",
        "node_two = Node(0)\n",
        "node_three = Node(2)\n",
        "node_four = Node(2)\n",
        "node_five = Node(1)\n",
        "node_six = Node(0)\n",
        "node_seven = Node(1)\n",
        "node_eight = Node(5)\n",
        "node_nine = Node(0)\n",
        "node_ten = Node(6)\n",
        "\n",
        "num_list.head.next = node_two\n",
        "node_two.next = node_three\n",
        "node_three.next = node_four\n",
        "node_four.next = node_five\n",
        "node_five.next = node_six\n",
        "node_six.next = node_seven\n",
        "node_seven.next = node_eight\n",
        "node_eight.next = node_nine\n",
        "node_nine.next = node_ten\n",
        "\n",
        "def hasPrime(number):\n",
        "  len = 0\n",
        "  initial = number.head\n",
        "\n",
        "  while initial:\n",
        "    len += 1\n",
        "    initial = initial.next\n",
        "\n",
        "  initial = number.head\n",
        "  for x in range(max(0, len - 6)):\n",
        "    initial = initial.next\n",
        "\n",
        "    for x in range(2, initial.data//2):\n",
        "      if initial.data % x == 0:\n",
        "        return False\n",
        "\n",
        "    return True\n",
        "\n",
        "answer = hasPrime(num_list)\n",
        "print(answer)"
      ],
      "metadata": {
        "colab": {
          "base_uri": "https://localhost:8080/"
        },
        "id": "hxiqOJcFsPTT",
        "outputId": "4bd9aa8f-2997-4932-b306-7248d9d38db0"
      },
      "execution_count": 623,
      "outputs": [
        {
          "output_type": "stream",
          "name": "stdout",
          "text": [
            "True\n"
          ]
        }
      ]
    },
    {
      "cell_type": "markdown",
      "metadata": {
        "id": "5Qb0BOiwFehT"
      },
      "source": [
        "3. Write a `removeZeroes()` function to remove all occurrences of zeroes in **num_list**. `(5 points)`\n",
        "\n",
        "- If a zero is in **num_list**, return **num_list**\n",
        "\n",
        "- If there are no zeroes in **num_list**, return **\"no zeros found\"**\n",
        "\n",
        "    **Expected Output:**\n",
        "\n",
        "    removeZeroes(num_list)\n",
        "\n",
        "    [2, 2, 1, 2, 3, 4, 5, 6]"
      ]
    },
    {
      "cell_type": "code",
      "execution_count": 624,
      "metadata": {
        "id": "k1vAHUYuFehT",
        "colab": {
          "base_uri": "https://localhost:8080/"
        },
        "outputId": "ee25a12f-b144-4187-d4b1-f9bbd3fcda41"
      },
      "outputs": [
        {
          "output_type": "stream",
          "name": "stdout",
          "text": [
            "Elements in num_list:  [2, 0, 2, 2, 1, 0, 1, 5, 0, 6]\n",
            "Updated elements in num_list: [2, 2, 2, 1, 1, 5, 6]\n"
          ]
        }
      ],
      "source": [
        "num_list = [2, 0, 2, 2, 1, 0, 1, 5, 0, 6]\n",
        "zero = 0\n",
        "\n",
        "def removeZeroes(num_list, zero):\n",
        "  x = num_list.count(zero)\n",
        "\n",
        "  for a in range(x):\n",
        "    num_list.remove(zero)\n",
        "  return num_list\n",
        "\n",
        "print(\"Elements in num_list: \", str(num_list))\n",
        "remove = removeZeroes(num_list, zero)\n",
        "print(\"Updated elements in num_list: \" + str(remove))"
      ]
    },
    {
      "cell_type": "markdown",
      "metadata": {
        "id": "SKAlpglNFehT"
      },
      "source": [
        "4. Insert a dash symbol between the 4th and 5th digit in **num_list**. `(5 points)`\n",
        "\n",
        "    **Expected Output:**\n",
        "\n",
        "    print(num_list)\n",
        "\n",
        "    [2, 0, 2, 2, \"-\", 1, 2, 3, 4, 5, 6]"
      ]
    },
    {
      "cell_type": "code",
      "execution_count": 625,
      "metadata": {
        "id": "vF7fimZ-FehT",
        "colab": {
          "base_uri": "https://localhost:8080/"
        },
        "outputId": "7e5d27bc-ee55-4416-f4d9-791f15ee9a83"
      },
      "outputs": [
        {
          "output_type": "stream",
          "name": "stdout",
          "text": [
            "2 -> 0 -> 2 -> 2 -> - -> 1 -> 0 -> 1 -> 5 -> 0 -> 6 -> "
          ]
        }
      ],
      "source": [
        "class LinkedList:\n",
        "\n",
        "    def __init__(self):\n",
        "        self.head = None\n",
        "\n",
        "    def insertAfter(self, prev_node, new_data):\n",
        "\n",
        "        if prev_node is None:\n",
        "            print(\"The given previous node must inLinkedList.\")\n",
        "            return\n",
        "\n",
        "        new_node = Node(new_data)\n",
        "        new_node.next = prev_node.next\n",
        "        prev_node.next = new_node\n",
        "\n",
        "    def traverse(self):\n",
        "        temp = self.head\n",
        "        while (temp):\n",
        "            print(str(temp.data) + \" -> \", end=\"\")\n",
        "            temp = temp.next\n",
        "\n",
        "num_list = LinkedList()\n",
        "\n",
        "num_list.head = Node(2)\n",
        "node_two = Node(0)\n",
        "node_three = Node(2)\n",
        "node_four = Node(2)\n",
        "node_five = Node(1)\n",
        "node_six = Node(0)\n",
        "node_seven = Node(1)\n",
        "node_eight = Node(5)\n",
        "node_nine = Node(0)\n",
        "node_ten = Node(6)\n",
        "\n",
        "num_list.head.next = node_two\n",
        "node_two.next = node_three\n",
        "node_three.next = node_four\n",
        "node_four.next = node_five\n",
        "node_five.next = node_six\n",
        "node_six.next = node_seven\n",
        "node_seven.next = node_eight\n",
        "node_eight.next = node_nine\n",
        "node_nine.next = node_ten\n",
        "\n",
        "num_list.insertAfter(node_four, \"-\")\n",
        "num_list.traverse()"
      ]
    },
    {
      "cell_type": "markdown",
      "metadata": {
        "id": "KkC-LgdxFehT"
      },
      "source": [
        "## Stack"
      ]
    },
    {
      "cell_type": "code",
      "execution_count": 626,
      "metadata": {
        "id": "UYTqB1u_FehU"
      },
      "outputs": [],
      "source": [
        "# Creating a stack\n",
        "def create_stack():\n",
        "    stack = []\n",
        "    return stack\n",
        "\n",
        "\n",
        "def print_stack(stack):\n",
        "\n",
        "    if (check_empty(stack)):\n",
        "        return \"stack is empty\"\n",
        "\n",
        "    # Create a copy of the stack and reverse the elements\n",
        "    tempStack = stack.copy()\n",
        "    tempStack.reverse()\n",
        "\n",
        "    # Print all elements using a loop\n",
        "    for i in tempStack:\n",
        "        print(i)\n",
        "\n",
        "    # Delete the copy to free up memory\n",
        "    del tempStack\n",
        "\n",
        "# Creating an empty stack\n",
        "\n",
        "\n",
        "def check_empty(stack):\n",
        "    return len(stack) == 0\n",
        "\n",
        "\n",
        "# Adding items into the stack\n",
        "def push(stack, item):\n",
        "    stack.append(item)\n",
        "    print(\"pushed item: \" + item)\n",
        "\n",
        "\n",
        "# Removing an element from the stack\n",
        "def pop(stack):\n",
        "    if (check_empty(stack)):\n",
        "        return \"stack is empty\"\n",
        "\n",
        "    return stack.pop()\n",
        "\n",
        "\n",
        "def peek(stack):\n",
        "\n",
        "    # Use negative indexing to display the last element of the list\n",
        "    print(stack[-1])"
      ]
    },
    {
      "cell_type": "markdown",
      "metadata": {
        "id": "wLAQchs8FehU"
      },
      "source": [
        "**Instructions** ❗️❗️\n",
        "\n",
        "Use the pre-defined stack class/functions to create a stack"
      ]
    },
    {
      "cell_type": "markdown",
      "metadata": {
        "id": "37cg9BoCFehU"
      },
      "source": [
        "1. Create two (2) stacks named **name_stack** and **num_stack** `(5 points)`\n",
        "\n",
        "- **name_stack** should contain all letters of your first name.\n",
        "- **num_stack** should contain all digits of your student number.\n",
        "\n",
        "    **Expected Output:**\n",
        "\n",
        "    print(name_stack)\n",
        "\n",
        "    ['E', 'L', 'I', 'Z', 'E', 'R']\n",
        "\n",
        "    print(num_stack)\n",
        "\n",
        "    [2,0,2,2,1,2,3,4,5,6]"
      ]
    },
    {
      "cell_type": "code",
      "source": [
        "name_stack = []\n",
        "num_stack = []\n",
        "\n",
        "push(name_stack, 'A')\n",
        "push(name_stack, 'N')\n",
        "push(name_stack, 'N')\n",
        "push(name_stack, 'A')\n",
        "push(name_stack, 'J')\n",
        "push(num_stack, '6')\n",
        "push(num_stack, '0')\n",
        "push(num_stack, '5')\n",
        "push(num_stack, '1')\n",
        "push(num_stack, '0')\n",
        "push(num_stack, '1')\n",
        "push(num_stack, '2')\n",
        "push(num_stack, '2')\n",
        "push(num_stack, '0')\n",
        "push(num_stack, '2')\n",
        "\n",
        "name_stack.reverse()\n",
        "print()\n",
        "print(name_stack)\n",
        "print()\n",
        "num_stack.reverse()\n",
        "print(num_stack)"
      ],
      "metadata": {
        "colab": {
          "base_uri": "https://localhost:8080/"
        },
        "id": "TOxp-OecdT0L",
        "outputId": "c234eb67-9e6d-449e-b4fc-adcdeda4a39e"
      },
      "execution_count": 627,
      "outputs": [
        {
          "output_type": "stream",
          "name": "stdout",
          "text": [
            "pushed item: A\n",
            "pushed item: N\n",
            "pushed item: N\n",
            "pushed item: A\n",
            "pushed item: J\n",
            "pushed item: 6\n",
            "pushed item: 0\n",
            "pushed item: 5\n",
            "pushed item: 1\n",
            "pushed item: 0\n",
            "pushed item: 1\n",
            "pushed item: 2\n",
            "pushed item: 2\n",
            "pushed item: 0\n",
            "pushed item: 2\n",
            "\n",
            "['J', 'A', 'N', 'N', 'A']\n",
            "\n",
            "['2', '0', '2', '2', '1', '0', '1', '5', '0', '6']\n"
          ]
        }
      ]
    },
    {
      "cell_type": "markdown",
      "metadata": {
        "id": "8cySe9LXFehU"
      },
      "source": [
        "2. Create a stack named **my_stack** that follows the following format: `(5 points)`\n",
        "\n",
        "- The first element should be the **5th digit in your student number**\n",
        "- The succeeding elements should be the letters of your **first name**\n",
        "- The last element should be the **last digit of your student number**\n",
        "\n",
        "    **Expected Output:**\n",
        "\n",
        "    my_stack = [1, E, L, I, Z, E, R, 6]"
      ]
    },
    {
      "cell_type": "code",
      "execution_count": 628,
      "metadata": {
        "id": "bEnCoAhjFehU",
        "colab": {
          "base_uri": "https://localhost:8080/"
        },
        "outputId": "7f48fd8f-e333-4127-99ff-89f7db711419"
      },
      "outputs": [
        {
          "output_type": "stream",
          "name": "stdout",
          "text": [
            "pushed item: 1\n",
            "pushed item: J\n",
            "pushed item: A\n",
            "pushed item: N\n",
            "pushed item: N\n",
            "pushed item: A\n",
            "pushed item: 6\n",
            "\n",
            "['1', 'J', 'A', 'N', 'N', 'A', '6']\n"
          ]
        }
      ],
      "source": [
        "my_stack = create_stack()\n",
        "name = \"JANNA\"\n",
        "student_number = \"2022101506\"\n",
        "\n",
        "push(my_stack, student_number[4])\n",
        "for my_name in name:\n",
        "  push(my_stack, my_name)\n",
        "push(my_stack, student_number[-1])\n",
        "\n",
        "print()\n",
        "print(my_stack)"
      ]
    },
    {
      "cell_type": "markdown",
      "metadata": {
        "id": "8a8_KP5nFehU"
      },
      "source": [
        "3. Write a `verifyStack()` function that will take in `my_stack` and check if its format has been followed `(10 points)`\n",
        "\n",
        "- Return **True** if the format has been followed\n",
        "- Return **False** if the format was not followed\n",
        "- Verify the format by checking the contents of **my_stack** with **name_stack** and **num_stack**\n",
        "\n",
        "    **Expected Output:**\n",
        "\n",
        "    my_stack = [1, E, L, I, Z, E, R, 6]\n",
        "\n",
        "    verifyStack(my_stack)\n",
        "\n",
        "    True\n",
        "\n",
        "    my_stack = [1, S, L, I, Z, E, R, 7]\n",
        "\n",
        "    verifyStack(my_stack)\n",
        "\n",
        "    False"
      ]
    },
    {
      "cell_type": "code",
      "execution_count": 629,
      "metadata": {
        "id": "RdANSxD0FehU",
        "colab": {
          "base_uri": "https://localhost:8080/"
        },
        "outputId": "f06c527d-03fe-4ae2-808c-bbaebe4856e5"
      },
      "outputs": [
        {
          "output_type": "stream",
          "name": "stdout",
          "text": [
            "pushed item: 1\n",
            "pushed item: J\n",
            "pushed item: A\n",
            "pushed item: N\n",
            "pushed item: N\n",
            "pushed item: A\n",
            "pushed item: 6\n",
            "\n",
            "my_stack =  ['1', 'J', 'A', 'N', 'N', 'A', '6']\n",
            "True\n",
            "\n",
            "my_stack =  ['1', 'K', 'A', 'N', 'N', 'A', '7']\n",
            "False\n"
          ]
        }
      ],
      "source": [
        "name_stack = ['J', 'A', 'N', 'N', 'A']\n",
        "num_stack = ['2', '0', '2', '2', '1', '0', '1', '5', '0', '6']\n",
        "my_stack = create_stack()\n",
        "\n",
        "name = \"JANNA\"\n",
        "student_number = \"2022101506\"\n",
        "\n",
        "push(my_stack, student_number[4])\n",
        "for my_name in name:\n",
        "  push(my_stack, my_name)\n",
        "push(my_stack, student_number[-1])\n",
        "\n",
        "def verifyStack(my_stack):\n",
        "  if my_stack[0] == num_stack[4]:\n",
        "    my_stack[-1] = str(my_stack[-1])\n",
        "\n",
        "    if (my_stack[1:6]) == name_stack:\n",
        "\n",
        "      if my_stack[-1] == num_stack[-1]:\n",
        "        return True\n",
        "\n",
        "  return False\n",
        "\n",
        "print()\n",
        "print(\"my_stack = \", my_stack)\n",
        "print(verifyStack(my_stack))\n",
        "\n",
        "print()\n",
        "my_stack = ['1', 'K', 'A', 'N', 'N', 'A', '7']\n",
        "print(\"my_stack = \", my_stack)\n",
        "print(verifyStack(my_stack))\n",
        "\n"
      ]
    },
    {
      "cell_type": "markdown",
      "metadata": {
        "id": "UC5C64B2FehU"
      },
      "source": [
        "## Queue"
      ]
    },
    {
      "cell_type": "code",
      "execution_count": 630,
      "metadata": {
        "id": "NJJ0j0LHFehU"
      },
      "outputs": [],
      "source": [
        "class Queue:\n",
        "    def __init__(self):\n",
        "        self.queue = []\n",
        "\n",
        "    # Add an element\n",
        "    def enqueue(self, item):\n",
        "        self.queue.append(item)\n",
        "\n",
        "    # Remove an element\n",
        "    def dequeue(self):\n",
        "        if len(self.queue) < 1:\n",
        "            return None\n",
        "        return self.queue.pop(0)\n",
        "\n",
        "    # Display  the queue\n",
        "    def display(self):\n",
        "        print(self.queue)\n",
        "\n",
        "    def size(self):\n",
        "        return len(self.queue)\n",
        "\n",
        "    def peek(self):\n",
        "        return self.queue[0]"
      ]
    },
    {
      "cell_type": "markdown",
      "metadata": {
        "id": "80OekpbeFehV"
      },
      "source": [
        "**Instructions** ❗️❗️\n",
        "\n",
        "Use the pre-defined queue class/functions to create a Queue"
      ]
    },
    {
      "cell_type": "markdown",
      "metadata": {
        "id": "_Hf0OP5cFehV"
      },
      "source": [
        "1. Create a simple queue named **num_queue** `(5 points)`\n",
        "\n",
        "- **num_queue** should contain all digits of your student number.\n",
        "\n",
        "    **Expected Output:**\n",
        "\n",
        "    print(num_queue)\n",
        "\n",
        "    [2,0,2,2,1,2,3,4,5,6]"
      ]
    },
    {
      "cell_type": "code",
      "execution_count": 631,
      "metadata": {
        "id": "_mgmE4ArFehV",
        "colab": {
          "base_uri": "https://localhost:8080/"
        },
        "outputId": "a32ea935-57b5-4d34-ac63-b402b6537ae4"
      },
      "outputs": [
        {
          "output_type": "stream",
          "name": "stdout",
          "text": [
            "[2, 0, 2, 2, 1, 0, 1, 5, 0, 6]\n"
          ]
        }
      ],
      "source": [
        "num_queue = Queue()\n",
        "\n",
        "num_queue.enqueue(2)\n",
        "num_queue.enqueue(0)\n",
        "num_queue.enqueue(2)\n",
        "num_queue.enqueue(2)\n",
        "num_queue.enqueue(1)\n",
        "num_queue.enqueue(0)\n",
        "num_queue.enqueue(1)\n",
        "num_queue.enqueue(5)\n",
        "num_queue.enqueue(0)\n",
        "num_queue.enqueue(6)\n",
        "\n",
        "num_queue.display()"
      ]
    },
    {
      "cell_type": "markdown",
      "metadata": {
        "id": "1pHG8t6DFehV"
      },
      "source": [
        "2. Write a `getMax()` or `getMin()` function for **num_queue** `(5 points)`\n",
        "\n",
        "- If your student number ends with an odd number, create a `getMax()` function that will return the largest number in **num_queue**\n",
        "- If your student number ends with an even number, create a `getMin()` function that will return the lowest number in **num_queue**\n",
        "\n",
        "    **Expected Output for getMax():**\n",
        "\n",
        "    getMax(num_queue)\n",
        "\n",
        "    6\n",
        "\n",
        "    **Expected Output for getMin():**\n",
        "\n",
        "    getMin(num_queue)\n",
        "\n",
        "    0"
      ]
    },
    {
      "cell_type": "code",
      "execution_count": 632,
      "metadata": {
        "id": "itj2U610FehV",
        "colab": {
          "base_uri": "https://localhost:8080/"
        },
        "outputId": "34b68e77-c6f1-4df6-840c-c86547546cb8"
      },
      "outputs": [
        {
          "output_type": "stream",
          "name": "stdout",
          "text": [
            "0\n"
          ]
        }
      ],
      "source": [
        "num_queue = Queue()\n",
        "min_num = Queue()\n",
        "\n",
        "num_queue.enqueue(2)\n",
        "num_queue.enqueue(0)\n",
        "num_queue.enqueue(2)\n",
        "num_queue.enqueue(2)\n",
        "num_queue.enqueue(1)\n",
        "num_queue.enqueue(0)\n",
        "num_queue.enqueue(1)\n",
        "num_queue.enqueue(5)\n",
        "num_queue.enqueue(0)\n",
        "num_queue.enqueue(6)\n",
        "\n",
        "def getMin(num_queue):\n",
        "\n",
        "  min_value = num_queue.peek()\n",
        "  for x in range(num_queue.size()):\n",
        "    number = num_queue.dequeue()\n",
        "\n",
        "    if number < min_value:\n",
        "      min_value = number\n",
        "\n",
        "      num_queue.enqueue(number)\n",
        "\n",
        "  return min_value\n",
        "\n",
        "\n",
        "min_value = getMin(num_queue)\n",
        "print(min_value)"
      ]
    },
    {
      "cell_type": "markdown",
      "metadata": {
        "id": "YkgmP6GwFehV"
      },
      "source": [
        "3. Write a `getOdd()` or `getEven()` function for  **num_queue** `(5 points)`\n",
        "\n",
        "- If your student number ends with an **odd number**, create a `getOdd()` function that will return all odd numbers in **num_queue**\n",
        "- If your student number ends with an **even number**, create a `getEven()` function that will return all even numbers in **num_queue**\n",
        "\n",
        "    **Expected Output for getOdd():**\n",
        "\n",
        "    getOdd(num_queue)\n",
        "\n",
        "    [1, 3, 5]\n",
        "\n",
        "    **Expected Output for getEven():**\n",
        "\n",
        "    getEven(num_queue)\n",
        "\n",
        "    [0, 2, 4, 6]"
      ]
    },
    {
      "cell_type": "code",
      "execution_count": 633,
      "metadata": {
        "id": "2Bc7E1zNFehV",
        "colab": {
          "base_uri": "https://localhost:8080/"
        },
        "outputId": "0d44b33d-ad87-4b59-856e-63e92135e3b6"
      },
      "outputs": [
        {
          "output_type": "stream",
          "name": "stdout",
          "text": [
            "[2, 0, 2, 2, 0, 0, 6]\n"
          ]
        }
      ],
      "source": [
        "num_queue = Queue()\n",
        "num = Queue()\n",
        "even = []\n",
        "\n",
        "num_queue.enqueue(2)\n",
        "num_queue.enqueue(0)\n",
        "num_queue.enqueue(2)\n",
        "num_queue.enqueue(2)\n",
        "num_queue.enqueue(1)\n",
        "num_queue.enqueue(0)\n",
        "num_queue.enqueue(1)\n",
        "num_queue.enqueue(5)\n",
        "num_queue.enqueue(0)\n",
        "num_queue.enqueue(6)\n",
        "\n",
        "\n",
        "def getEven(num_queue):\n",
        "\n",
        "  for x in range(num_queue.size()):\n",
        "    num = num_queue.dequeue()\n",
        "\n",
        "    if num % 2 == 0:\n",
        "      even.append(num)\n",
        "\n",
        "      num_queue.enqueue(num)\n",
        "\n",
        "  return even\n",
        "\n",
        "even = getEven(num_queue)\n",
        "print(even)"
      ]
    },
    {
      "cell_type": "markdown",
      "metadata": {
        "id": "kuzWF5g4FehV"
      },
      "source": [
        "4. Write a `removeDup()` function that will remove all duplicates in **num_queue** `(5 points)`\n",
        "\n",
        "    **Expected Output:**\n",
        "\n",
        "    removeDup(num_queue)\n",
        "\n",
        "    [2,0,1,3,4,5,6]"
      ]
    },
    {
      "cell_type": "code",
      "execution_count": 634,
      "metadata": {
        "id": "I8LeQP8MFehY",
        "colab": {
          "base_uri": "https://localhost:8080/"
        },
        "outputId": "17e4a1cb-4c66-4b68-90ba-16b4f9364891"
      },
      "outputs": [
        {
          "output_type": "stream",
          "name": "stdout",
          "text": [
            "[2, 0, 1, 5, 6]\n"
          ]
        }
      ],
      "source": [
        "num_queue = Queue()\n",
        "digit = Queue()\n",
        "count = {}\n",
        "\n",
        "num_queue.enqueue(2)\n",
        "num_queue.enqueue(0)\n",
        "num_queue.enqueue(2)\n",
        "num_queue.enqueue(2)\n",
        "num_queue.enqueue(1)\n",
        "num_queue.enqueue(0)\n",
        "num_queue.enqueue(1)\n",
        "num_queue.enqueue(5)\n",
        "num_queue.enqueue(0)\n",
        "num_queue.enqueue(6)\n",
        "\n",
        "def removeDup(num_queue):\n",
        "\n",
        "  for x in range(num_queue.size()):\n",
        "    num = num_queue.dequeue()\n",
        "\n",
        "    if num in count:\n",
        "      count[num] = count[num] + 1\n",
        "    if num not in count:\n",
        "      count[num] = 1\n",
        "    if count[num] == 1:\n",
        "      digit.enqueue(num)\n",
        "\n",
        "  for x in range(digit.size()):\n",
        "    num_queue.enqueue(digit.dequeue())\n",
        "\n",
        "\n",
        "removeDup(num_queue)\n",
        "num_queue.display()"
      ]
    },
    {
      "cell_type": "markdown",
      "metadata": {
        "id": "LVfZTh8YFehZ"
      },
      "source": [
        "## Sort"
      ]
    },
    {
      "cell_type": "markdown",
      "metadata": {
        "id": "bm9lonfzFehZ"
      },
      "source": [
        "**Instructions** ❗️❗️\n",
        "\n",
        "Use the any sorting algoritms"
      ]
    },
    {
      "cell_type": "markdown",
      "metadata": {
        "id": "EJTlxhEdFehZ"
      },
      "source": [
        "1. Using any sorting algorithm, sort the **last 6 digits** of your student number in ascending order `(5 points)`\n",
        "\n",
        "    **Example:**\n",
        "\n",
        "    student_number = [2,0,2,2,6,2,5,1,3,4]\n",
        "\n",
        "    **Expected Output:**\n",
        "\n",
        "    print(student_number)\n",
        "\n",
        "    [2,0,2,2,1,2,3,4,5,6]\n"
      ]
    },
    {
      "cell_type": "code",
      "execution_count": 635,
      "metadata": {
        "id": "MkZKfveOFehZ",
        "colab": {
          "base_uri": "https://localhost:8080/"
        },
        "outputId": "b56d4d03-29c9-41f2-bcef-a29bd97c4dfb"
      },
      "outputs": [
        {
          "output_type": "stream",
          "name": "stdout",
          "text": [
            "[2, 0, 2, 2, 0, 0, 1, 1, 5, 6]\n"
          ]
        }
      ],
      "source": [
        "def bubbleSort(array):\n",
        "\n",
        "  # loop to access each array element\n",
        "  for i in range(len(array)):\n",
        "\n",
        "    # loop to compare array elements\n",
        "    for j in range(0, len(array) - i - 1):\n",
        "\n",
        "      # compare two adjacent elements\n",
        "      # change > to < to sort in descending order\n",
        "      if array[j] > array[j + 1]:\n",
        "\n",
        "        # swapping elements if elements\n",
        "        # are not in the intended order\n",
        "        temp = array[j]\n",
        "        array[j] = array[j+1]\n",
        "        array[j+1] = temp\n",
        "\n",
        "student_number = [2, 0, 2, 2, 1, 0, 1, 5, 0, 6]\n",
        "\n",
        "\n",
        "six_digits_to_int = \"\".join(str(stud) for stud in student_number)\n",
        "last_six_digits = [int(six_digits_to_int[-6:])]\n",
        "six_digits_to_string = \"\".join(str(stud) for stud in last_six_digits)\n",
        "six_digits_to_int = int(six_digits_to_string)\n",
        "\n",
        "\n",
        "# [1, 0, 1, 5, 0, 6]\n",
        "six_digits = [int(i) for i in str(six_digits_to_int)]\n",
        "bubbleSort(six_digits)\n",
        "\n",
        "\n",
        "four_digits_to_int = \"\".join(str(stud) for stud in student_number)\n",
        "first_four_digits = [int(four_digits_to_int[:4])]\n",
        "four_digits_to_string = \"\".join(str(stud) for stud in first_four_digits)\n",
        "four_digits_to_int = int(four_digits_to_string)\n",
        "\n",
        "\n",
        "# [2, 0, 2, 2]\n",
        "four_digits = [int(i) for i in str(four_digits_to_int)]\n",
        "print(four_digits + six_digits)"
      ]
    },
    {
      "cell_type": "markdown",
      "metadata": {
        "id": "sC2JZRZMFehZ"
      },
      "source": [
        "2. Using your student_number, separately sort the even numbers in **increasing order** and the odd numbers in **decreasing order** `(15 points)`\n",
        "\n",
        "    **Example:**\n",
        "\n",
        "    student_number = [2,0,2,2,1,2,3,4,5,6]\n",
        "\n",
        "    **Expected Output:**\n",
        "\n",
        "    print(student_number)\n",
        "\n",
        "    [0,2,2,2,2,4,6,5,3,1]"
      ]
    },
    {
      "cell_type": "code",
      "execution_count": 636,
      "metadata": {
        "id": "hWOh_ohcFehZ",
        "colab": {
          "base_uri": "https://localhost:8080/"
        },
        "outputId": "9d71e3d3-19af-4cb8-fbb3-03ae7eea294b"
      },
      "outputs": [
        {
          "output_type": "stream",
          "name": "stdout",
          "text": [
            "[0, 0, 0, 2, 2, 2, 6, 5, 1, 1]\n"
          ]
        }
      ],
      "source": [
        "def insertionSort(array):\n",
        "\n",
        "    for step in range(1, len(array)):\n",
        "        key = array[step]\n",
        "        j = step - 1\n",
        "\n",
        "        # Compare key with each element on the left of it until an element smaller than it is found\n",
        "        # For descending order, change key<array[j] to key>array[j].\n",
        "        while j >= 0 and key < array[j]:\n",
        "            array[j + 1] = array[j]\n",
        "            j = j - 1\n",
        "\n",
        "        # Place key at after the element just smaller than it.\n",
        "        array[j + 1] = key\n",
        "\n",
        "def bubbleSort(array):\n",
        "\n",
        "  # loop to access each array element\n",
        "  for i in range(len(array)):\n",
        "\n",
        "    # loop to compare array elements\n",
        "    for j in range(0, len(array) - i - 1):\n",
        "\n",
        "      # compare two adjacent elements\n",
        "      # change > to < to sort in descending order\n",
        "      if array[j] < array[j + 1]:\n",
        "\n",
        "        # swapping elements if elements\n",
        "        # are not in the intended order\n",
        "        temp = array[j]\n",
        "        array[j] = array[j+1]\n",
        "        array[j+1] = temp\n",
        "\n",
        "student_number = [2, 0, 2, 2, 1, 0, 1, 5, 0, 6]\n",
        "\n",
        "def sortEvenOdd(student_number):\n",
        "  odd_numbers = []\n",
        "  even_numbers = []\n",
        "\n",
        "  for x in student_number:\n",
        "      if x % 2 != 0:\n",
        "          odd_numbers.append(x)\n",
        "      else:\n",
        "          even_numbers.append(x)\n",
        "\n",
        "  bubbleSort(odd_numbers)\n",
        "  insertionSort(even_numbers)\n",
        "\n",
        "  return even_numbers + odd_numbers\n",
        "\n",
        "sorted_student_number = sortEvenOdd(student_number)\n",
        "print(sorted_student_number)"
      ]
    }
  ],
  "metadata": {
    "kernelspec": {
      "display_name": "Python 3",
      "language": "python",
      "name": "python3"
    },
    "language_info": {
      "codemirror_mode": {
        "name": "ipython",
        "version": 3
      },
      "file_extension": ".py",
      "mimetype": "text/x-python",
      "name": "python",
      "nbconvert_exporter": "python",
      "pygments_lexer": "ipython3",
      "version": "3.9.13"
    },
    "orig_nbformat": 4,
    "colab": {
      "provenance": [],
      "include_colab_link": true
    }
  },
  "nbformat": 4,
  "nbformat_minor": 0
}